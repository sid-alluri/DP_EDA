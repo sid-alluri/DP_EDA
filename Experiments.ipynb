{
 "cells": [
  {
   "cell_type": "code",
   "execution_count": 1,
   "id": "e962dc42",
   "metadata": {},
   "outputs": [],
   "source": [
    "import numpy as np\n",
    "import pandas as pd\n",
    "from pandas_profiling import ProfileReport"
   ]
  },
  {
   "cell_type": "code",
   "execution_count": 2,
   "id": "f624a22b",
   "metadata": {},
   "outputs": [],
   "source": [
    "random_data = pd.read_csv('randomdata.csv')"
   ]
  },
  {
   "cell_type": "code",
   "execution_count": 3,
   "id": "778b175f",
   "metadata": {},
   "outputs": [
    {
     "name": "stdout",
     "output_type": "stream",
     "text": [
      "Index(['Timestamp', 'Email Address', 'Name (optional)', 'Gender', 'Age',\n",
      "       'Occupation'],\n",
      "      dtype='object')\n"
     ]
    }
   ],
   "source": [
    "print(random_data.columns[0:6])"
   ]
  },
  {
   "cell_type": "code",
   "execution_count": 4,
   "id": "8f0ef5f3",
   "metadata": {},
   "outputs": [],
   "source": [
    "random_data = random_data.drop(['Timestamp', 'Email Address', 'Name (optional)', 'Gender', 'Age','Occupation'], axis = 1)"
   ]
  },
  {
   "cell_type": "code",
   "execution_count": 5,
   "id": "83989776",
   "metadata": {},
   "outputs": [
    {
     "data": {
      "text/html": [
       "<div>\n",
       "<style scoped>\n",
       "    .dataframe tbody tr th:only-of-type {\n",
       "        vertical-align: middle;\n",
       "    }\n",
       "\n",
       "    .dataframe tbody tr th {\n",
       "        vertical-align: top;\n",
       "    }\n",
       "\n",
       "    .dataframe thead th {\n",
       "        text-align: right;\n",
       "    }\n",
       "</style>\n",
       "<table border=\"1\" class=\"dataframe\">\n",
       "  <thead>\n",
       "    <tr style=\"text-align: right;\">\n",
       "      <th></th>\n",
       "      <th>SI_1</th>\n",
       "      <th>SI_2</th>\n",
       "      <th>SI_3</th>\n",
       "      <th>PEB_1</th>\n",
       "      <th>PEB_2</th>\n",
       "      <th>PEB_3</th>\n",
       "      <th>PEB_4</th>\n",
       "      <th>PEB_5</th>\n",
       "      <th>SoIn_1</th>\n",
       "      <th>SoIn_2</th>\n",
       "      <th>SoIn_3</th>\n",
       "      <th>SoIn_4</th>\n",
       "      <th>SoIn_5</th>\n",
       "      <th>CA_1</th>\n",
       "      <th>CA_2</th>\n",
       "      <th>CA_3</th>\n",
       "    </tr>\n",
       "  </thead>\n",
       "  <tbody>\n",
       "    <tr>\n",
       "      <th>0</th>\n",
       "      <td>4</td>\n",
       "      <td>4</td>\n",
       "      <td>5</td>\n",
       "      <td>7</td>\n",
       "      <td>7</td>\n",
       "      <td>5</td>\n",
       "      <td>6</td>\n",
       "      <td>7</td>\n",
       "      <td>4</td>\n",
       "      <td>6</td>\n",
       "      <td>4</td>\n",
       "      <td>4</td>\n",
       "      <td>5</td>\n",
       "      <td>7</td>\n",
       "      <td>7</td>\n",
       "      <td>7</td>\n",
       "    </tr>\n",
       "    <tr>\n",
       "      <th>1</th>\n",
       "      <td>7</td>\n",
       "      <td>7</td>\n",
       "      <td>7</td>\n",
       "      <td>7</td>\n",
       "      <td>7</td>\n",
       "      <td>7</td>\n",
       "      <td>7</td>\n",
       "      <td>7</td>\n",
       "      <td>7</td>\n",
       "      <td>7</td>\n",
       "      <td>7</td>\n",
       "      <td>7</td>\n",
       "      <td>7</td>\n",
       "      <td>7</td>\n",
       "      <td>7</td>\n",
       "      <td>7</td>\n",
       "    </tr>\n",
       "    <tr>\n",
       "      <th>2</th>\n",
       "      <td>3</td>\n",
       "      <td>5</td>\n",
       "      <td>4</td>\n",
       "      <td>6</td>\n",
       "      <td>4</td>\n",
       "      <td>3</td>\n",
       "      <td>6</td>\n",
       "      <td>5</td>\n",
       "      <td>4</td>\n",
       "      <td>4</td>\n",
       "      <td>2</td>\n",
       "      <td>4</td>\n",
       "      <td>4</td>\n",
       "      <td>5</td>\n",
       "      <td>4</td>\n",
       "      <td>6</td>\n",
       "    </tr>\n",
       "    <tr>\n",
       "      <th>3</th>\n",
       "      <td>1</td>\n",
       "      <td>2</td>\n",
       "      <td>2</td>\n",
       "      <td>4</td>\n",
       "      <td>4</td>\n",
       "      <td>4</td>\n",
       "      <td>4</td>\n",
       "      <td>3</td>\n",
       "      <td>2</td>\n",
       "      <td>2</td>\n",
       "      <td>2</td>\n",
       "      <td>2</td>\n",
       "      <td>4</td>\n",
       "      <td>7</td>\n",
       "      <td>2</td>\n",
       "      <td>5</td>\n",
       "    </tr>\n",
       "    <tr>\n",
       "      <th>4</th>\n",
       "      <td>3</td>\n",
       "      <td>7</td>\n",
       "      <td>7</td>\n",
       "      <td>7</td>\n",
       "      <td>4</td>\n",
       "      <td>2</td>\n",
       "      <td>4</td>\n",
       "      <td>6</td>\n",
       "      <td>1</td>\n",
       "      <td>1</td>\n",
       "      <td>1</td>\n",
       "      <td>5</td>\n",
       "      <td>4</td>\n",
       "      <td>4</td>\n",
       "      <td>7</td>\n",
       "      <td>5</td>\n",
       "    </tr>\n",
       "  </tbody>\n",
       "</table>\n",
       "</div>"
      ],
      "text/plain": [
       "   SI_1  SI_2  SI_3  PEB_1  PEB_2  PEB_3  PEB_4  PEB_5  SoIn_1  SoIn_2  \\\n",
       "0     4     4     5      7      7      5      6      7       4       6   \n",
       "1     7     7     7      7      7      7      7      7       7       7   \n",
       "2     3     5     4      6      4      3      6      5       4       4   \n",
       "3     1     2     2      4      4      4      4      3       2       2   \n",
       "4     3     7     7      7      4      2      4      6       1       1   \n",
       "\n",
       "   SoIn_3  SoIn_4  SoIn_5  CA_1  CA_2  CA_3  \n",
       "0       4       4       5     7     7     7  \n",
       "1       7       7       7     7     7     7  \n",
       "2       2       4       4     5     4     6  \n",
       "3       2       2       4     7     2     5  \n",
       "4       1       5       4     4     7     5  "
      ]
     },
     "execution_count": 5,
     "metadata": {},
     "output_type": "execute_result"
    }
   ],
   "source": [
    "random_data.head()"
   ]
  },
  {
   "cell_type": "code",
   "execution_count": null,
   "id": "68179199",
   "metadata": {},
   "outputs": [],
   "source": [
    "profile = ProfileReport(random_data, title='EV Adoption in India', explorative=True )"
   ]
  },
  {
   "cell_type": "code",
   "execution_count": null,
   "id": "dabbbd29",
   "metadata": {},
   "outputs": [],
   "source": [
    "profile.to_file(\"data_report.html\")\n"
   ]
  },
  {
   "cell_type": "code",
   "execution_count": null,
   "id": "f8b6fc6c",
   "metadata": {},
   "outputs": [],
   "source": [
    "profile.to_file(\"data_report.json\")\n"
   ]
  },
  {
   "cell_type": "code",
   "execution_count": null,
   "id": "c00b2dd5",
   "metadata": {},
   "outputs": [],
   "source": [
    "import json"
   ]
  },
  {
   "cell_type": "code",
   "execution_count": null,
   "id": "f08c00f5",
   "metadata": {},
   "outputs": [],
   "source": [
    "json_file = open('data_report.json')\n",
    "randomjson = json.load(json_file)\n",
    "for x in randomjson['variables'].keys():\n",
    "    dpm = AddNoise(randomjson['variables'][x]['mean'], 1)\n",
    "    print(f\"OG vs DP: {randomjson['variables'][x]['mean'], dpm}\")"
   ]
  },
  {
   "cell_type": "code",
   "execution_count": null,
   "id": "6cd6983a",
   "metadata": {},
   "outputs": [],
   "source": [
    "# for x in randomjson['variables'].keys():\n",
    "# #     print(f\"OV: {buf['mean']}\")\n",
    "# #     randomjson['variables'][x]['mean'] = AddNoise(randomjson['variables'][x]['mean'] )\n",
    "# #     print(f\"DPV: {randomjson['variables'][x]['mean']}\")\n",
    "#     dpm = AddNoise(randomjson['variables'][x]['mean'], 1)\n",
    "#     print(f\"DPV: {dpm}\")\n",
    "    "
   ]
  },
  {
   "cell_type": "code",
   "execution_count": null,
   "id": "fcbc2e1d",
   "metadata": {},
   "outputs": [],
   "source": [
    "def AddNoise(x, epsilon=0.5):\n",
    "    x +=  np.random.laplace(0,1.0/epsilon)\n",
    "    return x"
   ]
  },
  {
   "cell_type": "code",
   "execution_count": null,
   "id": "2f822f2d",
   "metadata": {},
   "outputs": [],
   "source": [
    "np.random.laplace(0, 1.0/0.2, 3)"
   ]
  },
  {
   "cell_type": "code",
   "execution_count": null,
   "id": "39840622",
   "metadata": {},
   "outputs": [],
   "source": []
  },
  {
   "cell_type": "code",
   "execution_count": null,
   "id": "913d1dfd",
   "metadata": {},
   "outputs": [],
   "source": [
    "randomjson['variables']['SI_1'].keys()"
   ]
  },
  {
   "cell_type": "code",
   "execution_count": null,
   "id": "2113cb88",
   "metadata": {},
   "outputs": [],
   "source": [
    "!ls"
   ]
  },
  {
   "cell_type": "code",
   "execution_count": 11,
   "id": "a3379ddd",
   "metadata": {},
   "outputs": [
    {
     "data": {
      "text/plain": [
       "['__builtins__',\n",
       " '__cached__',\n",
       " '__doc__',\n",
       " '__file__',\n",
       " '__loader__',\n",
       " '__name__',\n",
       " '__package__',\n",
       " '__path__',\n",
       " '__spec__',\n",
       " 'dp',\n",
       " 'eda']"
      ]
     },
     "execution_count": 11,
     "metadata": {},
     "output_type": "execute_result"
    }
   ],
   "source": [
    "import dpeda\n",
    "# from dpeda import eda,dp\n",
    "dir(dpeda)"
   ]
  },
  {
   "cell_type": "code",
   "execution_count": 12,
   "id": "2e020f32",
   "metadata": {},
   "outputs": [],
   "source": [
    "own = dpeda.eda.Owner()"
   ]
  },
  {
   "cell_type": "code",
   "execution_count": 13,
   "id": "c08c2d06",
   "metadata": {},
   "outputs": [],
   "source": [
    "og_results = own.get_stats(random_data)"
   ]
  },
  {
   "cell_type": "code",
   "execution_count": 14,
   "id": "483608fc",
   "metadata": {},
   "outputs": [
    {
     "data": {
      "text/plain": [
       "array([[4.73684211, 1.91894436, 3.68234746],\n",
       "       [5.02631579, 1.70091348, 2.89310666],\n",
       "       [5.07894737, 1.82967059, 3.34769446],\n",
       "       [6.20175439, 1.14582601, 1.31291725],\n",
       "       [5.51754386, 1.37121131, 1.88022046],\n",
       "       [4.52631579, 1.55267697, 2.41080578],\n",
       "       [5.83333333, 1.35618326, 1.83923304],\n",
       "       [5.03508772, 1.65058222, 2.72442167],\n",
       "       [4.72807018, 1.97455086, 3.89885111],\n",
       "       [5.09649123, 1.6018203 , 2.56582829],\n",
       "       [4.07017544, 2.06838528, 4.27821767],\n",
       "       [4.51754386, 1.92437764, 3.70322931],\n",
       "       [4.72807018, 1.8303493 , 3.35017854],\n",
       "       [6.01754386, 1.31689133, 1.73420276],\n",
       "       [5.64035088, 1.49410164, 2.2323397 ],\n",
       "       [6.00877193, 1.2515167 , 1.56629405]])"
      ]
     },
     "execution_count": 14,
     "metadata": {},
     "output_type": "execute_result"
    }
   ],
   "source": [
    "og_results  "
   ]
  },
  {
   "cell_type": "code",
   "execution_count": 15,
   "id": "9ebd45e7",
   "metadata": {},
   "outputs": [
    {
     "data": {
      "text/plain": [
       "[array([4.75908658, 1.94118884, 3.70459194]),\n",
       " array([4.24892116, 0.92351885, 2.11571203]),\n",
       " array([4.62921852, 1.37994174, 2.89796561]),\n",
       " array([6.53172015, 1.47579177, 1.64288301]),\n",
       " array([ 3.6439508 , -0.50238175,  0.0066274 ]),\n",
       " array([5.50055113, 2.52691231, 3.38504111]),\n",
       " array([7.86553721, 3.38838713, 3.87143691]),\n",
       " array([4.40027214, 1.01576664, 2.08960609]),\n",
       " array([5.08108786, 2.32756855, 4.2518688 ]),\n",
       " array([4.92160003, 1.4269291 , 2.39093709]),\n",
       " array([4.09189161, 2.09010145, 4.29993383]),\n",
       " array([4.51941534, 1.92624913, 3.7051008 ]),\n",
       " array([5.95052772, 3.05280684, 4.57263609]),\n",
       " array([ 1.75544253, -2.94521   , -2.52789857]),\n",
       " array([ 3.50675868, -0.63949056,  0.0987475 ]),\n",
       " array([8.81714542, 4.05989019, 4.37466754])]"
      ]
     },
     "execution_count": 15,
     "metadata": {},
     "output_type": "execute_result"
    }
   ],
   "source": [
    "dpeda.dp.AddNoise(og_results, 1)"
   ]
  },
  {
   "cell_type": "code",
   "execution_count": null,
   "id": "ed47c124",
   "metadata": {},
   "outputs": [],
   "source": [
    "for i in range(len(og_results)):\n",
    "    print(og_results[i])"
   ]
  },
  {
   "cell_type": "code",
   "execution_count": null,
   "id": "bc3b1253",
   "metadata": {},
   "outputs": [],
   "source": []
  }
 ],
 "metadata": {
  "kernelspec": {
   "display_name": "Python 3",
   "language": "python",
   "name": "python3"
  },
  "language_info": {
   "codemirror_mode": {
    "name": "ipython",
    "version": 3
   },
   "file_extension": ".py",
   "mimetype": "text/x-python",
   "name": "python",
   "nbconvert_exporter": "python",
   "pygments_lexer": "ipython3",
   "version": "3.8.0"
  }
 },
 "nbformat": 4,
 "nbformat_minor": 5
}
