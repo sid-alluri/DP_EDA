{
 "cells": [
  {
   "cell_type": "code",
   "execution_count": 1,
   "id": "e962dc42",
   "metadata": {},
   "outputs": [],
   "source": [
    "import numpy as np\n",
    "import pandas as pd\n",
    "from pandas_profiling import ProfileReport"
   ]
  },
  {
   "cell_type": "code",
   "execution_count": 2,
   "id": "f624a22b",
   "metadata": {},
   "outputs": [],
   "source": [
    "random_data = pd.read_csv('randomdata.csv') # Data is not uploaded in Repo for privacy reasons"
   ]
  },
  {
   "cell_type": "code",
   "execution_count": 3,
   "id": "8f0ef5f3",
   "metadata": {},
   "outputs": [],
   "source": [
    "random_data = random_data.drop(['Timestamp', 'Email Address', 'Name (optional)', 'Gender', 'Age','Occupation'], axis = 1)"
   ]
  },
  {
   "cell_type": "code",
   "execution_count": 4,
   "id": "2b63d3f5",
   "metadata": {},
   "outputs": [
    {
     "data": {
      "text/html": [
       "<div>\n",
       "<style scoped>\n",
       "    .dataframe tbody tr th:only-of-type {\n",
       "        vertical-align: middle;\n",
       "    }\n",
       "\n",
       "    .dataframe tbody tr th {\n",
       "        vertical-align: top;\n",
       "    }\n",
       "\n",
       "    .dataframe thead th {\n",
       "        text-align: right;\n",
       "    }\n",
       "</style>\n",
       "<table border=\"1\" class=\"dataframe\">\n",
       "  <thead>\n",
       "    <tr style=\"text-align: right;\">\n",
       "      <th></th>\n",
       "      <th>SI_1</th>\n",
       "      <th>SI_2</th>\n",
       "      <th>SI_3</th>\n",
       "      <th>PEB_1</th>\n",
       "      <th>PEB_2</th>\n",
       "      <th>PEB_3</th>\n",
       "      <th>PEB_4</th>\n",
       "      <th>PEB_5</th>\n",
       "      <th>SoIn_1</th>\n",
       "      <th>SoIn_2</th>\n",
       "      <th>SoIn_3</th>\n",
       "      <th>SoIn_4</th>\n",
       "      <th>SoIn_5</th>\n",
       "      <th>CA_1</th>\n",
       "      <th>CA_2</th>\n",
       "      <th>CA_3</th>\n",
       "    </tr>\n",
       "  </thead>\n",
       "  <tbody>\n",
       "    <tr>\n",
       "      <th>0</th>\n",
       "      <td>4</td>\n",
       "      <td>4</td>\n",
       "      <td>5</td>\n",
       "      <td>7</td>\n",
       "      <td>7</td>\n",
       "      <td>5</td>\n",
       "      <td>6</td>\n",
       "      <td>7</td>\n",
       "      <td>4</td>\n",
       "      <td>6</td>\n",
       "      <td>4</td>\n",
       "      <td>4</td>\n",
       "      <td>5</td>\n",
       "      <td>7</td>\n",
       "      <td>7</td>\n",
       "      <td>7</td>\n",
       "    </tr>\n",
       "    <tr>\n",
       "      <th>1</th>\n",
       "      <td>7</td>\n",
       "      <td>7</td>\n",
       "      <td>7</td>\n",
       "      <td>7</td>\n",
       "      <td>7</td>\n",
       "      <td>7</td>\n",
       "      <td>7</td>\n",
       "      <td>7</td>\n",
       "      <td>7</td>\n",
       "      <td>7</td>\n",
       "      <td>7</td>\n",
       "      <td>7</td>\n",
       "      <td>7</td>\n",
       "      <td>7</td>\n",
       "      <td>7</td>\n",
       "      <td>7</td>\n",
       "    </tr>\n",
       "    <tr>\n",
       "      <th>2</th>\n",
       "      <td>3</td>\n",
       "      <td>5</td>\n",
       "      <td>4</td>\n",
       "      <td>6</td>\n",
       "      <td>4</td>\n",
       "      <td>3</td>\n",
       "      <td>6</td>\n",
       "      <td>5</td>\n",
       "      <td>4</td>\n",
       "      <td>4</td>\n",
       "      <td>2</td>\n",
       "      <td>4</td>\n",
       "      <td>4</td>\n",
       "      <td>5</td>\n",
       "      <td>4</td>\n",
       "      <td>6</td>\n",
       "    </tr>\n",
       "    <tr>\n",
       "      <th>3</th>\n",
       "      <td>1</td>\n",
       "      <td>2</td>\n",
       "      <td>2</td>\n",
       "      <td>4</td>\n",
       "      <td>4</td>\n",
       "      <td>4</td>\n",
       "      <td>4</td>\n",
       "      <td>3</td>\n",
       "      <td>2</td>\n",
       "      <td>2</td>\n",
       "      <td>2</td>\n",
       "      <td>2</td>\n",
       "      <td>4</td>\n",
       "      <td>7</td>\n",
       "      <td>2</td>\n",
       "      <td>5</td>\n",
       "    </tr>\n",
       "    <tr>\n",
       "      <th>4</th>\n",
       "      <td>3</td>\n",
       "      <td>7</td>\n",
       "      <td>7</td>\n",
       "      <td>7</td>\n",
       "      <td>4</td>\n",
       "      <td>2</td>\n",
       "      <td>4</td>\n",
       "      <td>6</td>\n",
       "      <td>1</td>\n",
       "      <td>1</td>\n",
       "      <td>1</td>\n",
       "      <td>5</td>\n",
       "      <td>4</td>\n",
       "      <td>4</td>\n",
       "      <td>7</td>\n",
       "      <td>5</td>\n",
       "    </tr>\n",
       "  </tbody>\n",
       "</table>\n",
       "</div>"
      ],
      "text/plain": [
       "   SI_1  SI_2  SI_3  PEB_1  PEB_2  PEB_3  PEB_4  PEB_5  SoIn_1  SoIn_2  \\\n",
       "0     4     4     5      7      7      5      6      7       4       6   \n",
       "1     7     7     7      7      7      7      7      7       7       7   \n",
       "2     3     5     4      6      4      3      6      5       4       4   \n",
       "3     1     2     2      4      4      4      4      3       2       2   \n",
       "4     3     7     7      7      4      2      4      6       1       1   \n",
       "\n",
       "   SoIn_3  SoIn_4  SoIn_5  CA_1  CA_2  CA_3  \n",
       "0       4       4       5     7     7     7  \n",
       "1       7       7       7     7     7     7  \n",
       "2       2       4       4     5     4     6  \n",
       "3       2       2       4     7     2     5  \n",
       "4       1       5       4     4     7     5  "
      ]
     },
     "execution_count": 4,
     "metadata": {},
     "output_type": "execute_result"
    }
   ],
   "source": [
    "random_data.head() # There are 16 variables "
   ]
  },
  {
   "cell_type": "code",
   "execution_count": 5,
   "id": "a3379ddd",
   "metadata": {},
   "outputs": [],
   "source": [
    "from dpeda import eda, dp"
   ]
  },
  {
   "cell_type": "code",
   "execution_count": 6,
   "id": "2e020f32",
   "metadata": {},
   "outputs": [],
   "source": [
    "own = eda.Owner()"
   ]
  },
  {
   "cell_type": "code",
   "execution_count": 7,
   "id": "c08c2d06",
   "metadata": {},
   "outputs": [],
   "source": [
    "og_results = own.get_stats(random_data)"
   ]
  },
  {
   "cell_type": "code",
   "execution_count": 10,
   "id": "483608fc",
   "metadata": {},
   "outputs": [
    {
     "name": "stdout",
     "output_type": "stream",
     "text": [
      "[[4.73684211 1.91894436 3.68234746]\n",
      " [5.02631579 1.70091348 2.89310666]\n",
      " [5.07894737 1.82967059 3.34769446]\n",
      " [6.20175439 1.14582601 1.31291725]\n",
      " [5.51754386 1.37121131 1.88022046]\n",
      " [4.52631579 1.55267697 2.41080578]\n",
      " [5.83333333 1.35618326 1.83923304]\n",
      " [5.03508772 1.65058222 2.72442167]\n",
      " [4.72807018 1.97455086 3.89885111]\n",
      " [5.09649123 1.6018203  2.56582829]\n",
      " [4.07017544 2.06838528 4.27821767]\n",
      " [4.51754386 1.92437764 3.70322931]\n",
      " [4.72807018 1.8303493  3.35017854]\n",
      " [6.01754386 1.31689133 1.73420276]\n",
      " [5.64035088 1.49410164 2.2323397 ]\n",
      " [6.00877193 1.2515167  1.56629405]]\n"
     ]
    }
   ],
   "source": [
    "print(og_results)  # Actual Mean, Std, Variance of the 16 variables"
   ]
  },
  {
   "cell_type": "code",
   "execution_count": 12,
   "id": "9ebd45e7",
   "metadata": {},
   "outputs": [],
   "source": [
    "dp_results = dp.AddNoise(og_results, epsilon = 1)  # Differentially Private Mean, Std, Variance of the 16 variables"
   ]
  },
  {
   "cell_type": "code",
   "execution_count": 14,
   "id": "2d78d19e",
   "metadata": {},
   "outputs": [
    {
     "data": {
      "text/plain": [
       "[array([4.2313067 , 1.41340896, 3.17681206]),\n",
       " array([3.87392207, 0.54851976, 1.74071294]),\n",
       " array([6.0324871 , 2.78321032, 4.30123419]),\n",
       " array([6.6737173 , 1.61778893, 1.78488017]),\n",
       " array([ 3.61438356, -0.53194899, -0.02293984]),\n",
       " array([5.71049417, 2.73685535, 3.59498416]),\n",
       " array([ 3.98595139, -0.49119868, -0.0081489 ]),\n",
       " array([7.35583452, 3.97132902, 5.04516847]),\n",
       " array([8.20299808, 5.44947877, 7.37377902]),\n",
       " array([7.40320843, 3.90853751, 4.87254549]),\n",
       " array([ 1.46617636, -0.5356138 ,  1.67421859]),\n",
       " array([5.01078098, 2.41761476, 4.19646643]),\n",
       " array([5.18863661, 2.29091573, 3.81074497]),\n",
       " array([5.1187993 , 0.41814677, 0.83545821]),\n",
       " array([5.91184421, 1.76559496, 2.50383303]),\n",
       " array([ 4.15093386, -0.60632136, -0.29154401])]"
      ]
     },
     "execution_count": 14,
     "metadata": {},
     "output_type": "execute_result"
    }
   ],
   "source": [
    "dp_results"
   ]
  },
  {
   "cell_type": "markdown",
   "id": "ab819694",
   "metadata": {},
   "source": [
    "## More details: Coming Soon "
   ]
  }
 ],
 "metadata": {
  "kernelspec": {
   "display_name": "Python 3",
   "language": "python",
   "name": "python3"
  },
  "language_info": {
   "codemirror_mode": {
    "name": "ipython",
    "version": 3
   },
   "file_extension": ".py",
   "mimetype": "text/x-python",
   "name": "python",
   "nbconvert_exporter": "python",
   "pygments_lexer": "ipython3",
   "version": "3.8.0"
  }
 },
 "nbformat": 4,
 "nbformat_minor": 5
}
